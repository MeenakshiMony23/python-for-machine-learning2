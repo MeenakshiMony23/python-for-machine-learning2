{
  "nbformat": 4,
  "nbformat_minor": 0,
  "metadata": {
    "colab": {
      "provenance": [],
      "authorship_tag": "ABX9TyNYn5ymAvqtPmwsTx7MyQyo",
      "include_colab_link": true
    },
    "kernelspec": {
      "name": "python3",
      "display_name": "Python 3"
    },
    "language_info": {
      "name": "python"
    }
  },
  "cells": [
    {
      "cell_type": "markdown",
      "metadata": {
        "id": "view-in-github",
        "colab_type": "text"
      },
      "source": [
        "<a href=\"https://colab.research.google.com/github/MeenakshiMony23/python-for-machine-learning2/blob/main/Python_Code_Examples.ipynb\" target=\"_parent\"><img src=\"https://colab.research.google.com/assets/colab-badge.svg\" alt=\"Open In Colab\"/></a>"
      ]
    },
    {
      "cell_type": "markdown",
      "source": [
        "##task1. write a python program to find the largest number among three inputs\n",
        "\n",
        "\n",
        "\n",
        "\n"
      ],
      "metadata": {
        "id": "mQrX3B2K1zSz"
      }
    },
    {
      "cell_type": "markdown",
      "source": [
        "- **step 1:** Assign the numbers read from the user\n",
        "- **step 2:** Find the largest using conditionals `if-elif-else`.\n",
        "- **step 3:** Print the largest number"
      ],
      "metadata": {
        "id": "5B8Kmln25Ryq"
      }
    },
    {
      "cell_type": "code",
      "source": [
        "\"\"\"\n",
        "# Python program to find the largest number among the three input numbers\n",
        "\"\"\"\n",
        "num1 = 40\n",
        "num2 = 24\n",
        "num3 = 32\n",
        "#uncomment following lines to take three numbers from user\n",
        "num1 = float(input(\"Enter first number: \"))\n",
        "num2 = float(input(\"Enter second number: \"))\n",
        "num3 = float(input(\"Enter third number: \"))\n",
        "if (num1 >= num2) and (num1 >= num3):\n",
        "   largest = num1\n",
        "elif (num2 >= num1) and (num2 >= num3):\n",
        "   largest = num2\n",
        "else:\n",
        "   largest = num3\n",
        "print(\"The largest number is\", largest)"
      ],
      "metadata": {
        "colab": {
          "base_uri": "https://localhost:8080/"
        },
        "id": "5cPD4LBE2CVD",
        "outputId": "ce9a8f80-1657-40cb-f60c-e88afef3cee3"
      },
      "execution_count": 5,
      "outputs": [
        {
          "output_type": "stream",
          "name": "stdout",
          "text": [
            "Enter first number: 12\n",
            "Enter second number: 53\n",
            "Enter third number: 123\n",
            "The largest number is 123.0\n"
          ]
        }
      ]
    },
    {
      "cell_type": "markdown",
      "source": [
        "##task 2. Printing multiplication table \n",
        "\n",
        "\n",
        "\n",
        "\n"
      ],
      "metadata": {
        "id": "ixr-6ExS1w38"
      }
    },
    {
      "cell_type": "markdown",
      "source": [
        "- **step 1:** input a number\n",
        "- **step 2:** Multiply it by numbers from 1 to 10 and print output using conditionals `for`\n"
      ],
      "metadata": {
        "id": "0EmFHNJK5J9L"
      }
    },
    {
      "cell_type": "code",
      "source": [
        "num = 12\n",
        "for i in range(1, 11):\n",
        "   print(num, 'x', i, '=', num*i)"
      ],
      "metadata": {
        "colab": {
          "base_uri": "https://localhost:8080/"
        },
        "id": "-5nzPYSo3OtL",
        "outputId": "fd1a1995-d636-49bd-98cd-963dd45bceef"
      },
      "execution_count": 6,
      "outputs": [
        {
          "output_type": "stream",
          "name": "stdout",
          "text": [
            "12 x 1 = 12\n",
            "12 x 2 = 24\n",
            "12 x 3 = 36\n",
            "12 x 4 = 48\n",
            "12 x 5 = 60\n",
            "12 x 6 = 72\n",
            "12 x 7 = 84\n",
            "12 x 8 = 96\n",
            "12 x 9 = 108\n",
            "12 x 10 = 120\n"
          ]
        }
      ]
    },
    {
      "cell_type": "code",
      "source": [
        "# To take input from the user\n",
        "num = int(input(\"Display multiplication table of? \"))\n",
        "\n",
        "# Iterate 10 times from i = 1 to 10\n",
        "for i in range(1, 11):\n",
        "   print(i, 'x', num, '=', num*i)"
      ],
      "metadata": {
        "colab": {
          "base_uri": "https://localhost:8080/"
        },
        "id": "AcVYxrjq4IEj",
        "outputId": "72ffe0c9-cf0f-4ed4-922c-f68ef3fdb61e"
      },
      "execution_count": 7,
      "outputs": [
        {
          "output_type": "stream",
          "name": "stdout",
          "text": [
            "Display multiplication table of? 12\n",
            "1 x 12 = 12\n",
            "2 x 12 = 24\n",
            "3 x 12 = 36\n",
            "4 x 12 = 48\n",
            "5 x 12 = 60\n",
            "6 x 12 = 72\n",
            "7 x 12 = 84\n",
            "8 x 12 = 96\n",
            "9 x 12 = 108\n",
            "10 x 12 = 120\n"
          ]
        }
      ]
    },
    {
      "cell_type": "markdown",
      "source": [
        "##task 3.Check for a sign of a number\n",
        "- **step 1:** input a number\n",
        "- **step 2:** check if input is greater than zero, then print `Positive number` or if number is zero, print `Zero` , otherwise print `Negative number` using conditionals `if-elif-else`"
      ],
      "metadata": {
        "id": "J5ZT1eYw5sCb"
      }
    },
    {
      "cell_type": "code",
      "source": [
        "num = float(input(\"Enter a number: \"))\n",
        "if num > 0:\n",
        "   print(\"Positive number\")\n",
        "elif num == 0:\n",
        "   print(\"Zero\")\n",
        "else:\n",
        "   print(\"Negative number\")"
      ],
      "metadata": {
        "colab": {
          "base_uri": "https://localhost:8080/"
        },
        "id": "mRg3wtBs50US",
        "outputId": "898fe4b7-095c-4abf-97ef-95a2eb444092"
      },
      "execution_count": 8,
      "outputs": [
        {
          "output_type": "stream",
          "name": "stdout",
          "text": [
            "Enter a number: 15\n",
            "Positive number\n"
          ]
        }
      ]
    },
    {
      "cell_type": "markdown",
      "source": [
        "##task 4. Find surface area and volume of a cylinder\n",
        "- **step 1:** Assign pi as 3.14\n",
        "- **step 2:** input $radius$ and $height$ of a cylinder\n",
        "- **step 3:** calculate $$surface area=\\pi(radius(radius+height) )$$ $$volume=2\\pi*radius*height$$\n",
        "- **step 4:**print the result"
      ],
      "metadata": {
        "id": "mxKOIf9K6x_R"
      }
    },
    {
      "cell_type": "code",
      "source": [
        "pi=3.14\n",
        "r=2.6\n",
        "h=1.6\n",
        "SA=2*pi*r*(r+h)\n",
        "V=pi*r**2*h\n",
        "print((\"Surface Area is {} and Volume is {}\").format(SA,V))"
      ],
      "metadata": {
        "colab": {
          "base_uri": "https://localhost:8080/"
        },
        "id": "I9ZDqriy6yc5",
        "outputId": "527c84a8-3ddd-4648-fa1a-1a69e4123868"
      },
      "execution_count": 11,
      "outputs": [
        {
          "output_type": "stream",
          "name": "stdout",
          "text": [
            "Surface Area is 68.57760000000002 and Volume is 33.96224\n"
          ]
        }
      ]
    },
    {
      "cell_type": "markdown",
      "source": [
        "##task 5. Find area of a circle\n",
        "- **step 1:** Assign pi as 3.14\n",
        "- **step 2:** input radius of a circle and typecast it into float\n",
        "- **step 3:** calculate $$area=\\pi*radius^2$$ and print the result\n"
      ],
      "metadata": {
        "id": "JpEk3LsC8Es1"
      }
    },
    {
      "cell_type": "code",
      "source": [
        "pi=3.14\n",
        "r=float(input(\"Enter the radius: \"))\n",
        "print(\"Area: \",pi*r**2)"
      ],
      "metadata": {
        "colab": {
          "base_uri": "https://localhost:8080/"
        },
        "id": "KUL38T_z8Ebk",
        "outputId": "bafcc876-1392-4de2-d8a4-ffea97a47db4"
      },
      "execution_count": 10,
      "outputs": [
        {
          "output_type": "stream",
          "name": "stdout",
          "text": [
            "Enter the radius: 5\n",
            "Area:  78.5\n"
          ]
        }
      ]
    },
    {
      "cell_type": "markdown",
      "source": [
        "## task 6. Calculate area of a rectangle\n",
        "- **step 1:** Assign pi as 3.14\n",
        "- **step 2:** input radius of a circle and typecast it into float\n",
        "- **step 3:** calculate $$area=\\pi*r^2$$ and print the result\n"
      ],
      "metadata": {
        "id": "FcjLo6w482P0"
      }
    },
    {
      "cell_type": "code",
      "source": [
        "l=2;b=5.2\n",
        "Area=l*b\n",
        "print(\"Area of the Rectangle is : \",Area)"
      ],
      "metadata": {
        "colab": {
          "base_uri": "https://localhost:8080/"
        },
        "id": "xOsAONvT82H-",
        "outputId": "bcabfcc5-257d-4522-c345-c5a77dc2d2fa"
      },
      "execution_count": 12,
      "outputs": [
        {
          "output_type": "stream",
          "name": "stdout",
          "text": [
            "Area of the Rectangle is :  10.4\n"
          ]
        }
      ]
    },
    {
      "cell_type": "markdown",
      "source": [
        "##task 7.Replacing a word with another word in a sentence\n",
        "- **step 1:**input text= `hand ball is a hand full of hands`\n",
        "- **step 2:**Replace the word `hand` with `foot` using $.replace()$\n",
        "- **step 3:**print replaced text"
      ],
      "metadata": {
        "id": "0kHiUVBX-6oR"
      }
    },
    {
      "cell_type": "code",
      "source": [
        "# program to replace a word by another word in a sentence\n",
        "\n",
        "text = 'hand ball is a hand full of hands'\n",
        "\n",
        "# replace 'hand' with 'foot'\n",
        "replaced_text = text.replace('hand ', 'foot ')\n",
        "print(replaced_text)"
      ],
      "metadata": {
        "colab": {
          "base_uri": "https://localhost:8080/"
        },
        "id": "tUVnEVv1-6YK",
        "outputId": "6dab4627-5163-46d2-c898-2c1007b84a6f"
      },
      "execution_count": 13,
      "outputs": [
        {
          "output_type": "stream",
          "name": "stdout",
          "text": [
            "foot ball is a foot full of hands\n"
          ]
        }
      ]
    },
    {
      "cell_type": "markdown",
      "source": [
        "##task 8.Program to remove a word from a sentence\n",
        "- **step 1:**input a sentence and word in the same sentence to delete\n",
        "- **step 2:**remove `word` from `text` using replace keyword\n",
        "- **step 3:**print the replaced result"
      ],
      "metadata": {
        "id": "k87mN3PDAHsQ"
      }
    },
    {
      "cell_type": "code",
      "source": [
        "# program to remove a word from a sentence\n",
        "text = input(\"Enter the String: \")\n",
        "word = input(\"Enter a Word to Delete: \")\n",
        "\n",
        "text = text.replace(word, \"\")\n",
        "print(\"The updated sentence is:\\n\")\n",
        "print(text)"
      ],
      "metadata": {
        "colab": {
          "base_uri": "https://localhost:8080/"
        },
        "id": "Y8t-QUOUCoq3",
        "outputId": "0bf514ea-bd4e-46eb-d697-6708d0965e09"
      },
      "execution_count": 17,
      "outputs": [
        {
          "output_type": "stream",
          "name": "stdout",
          "text": [
            "Enter the String: he is my friend\n",
            "Enter a Word to Delete: my\n",
            "The updated sentence is:\n",
            "\n",
            "he is  friend\n"
          ]
        }
      ]
    }
  ]
}
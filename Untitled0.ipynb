{
  "nbformat": 4,
  "nbformat_minor": 0,
  "metadata": {
    "colab": {
      "provenance": [],
      "authorship_tag": "ABX9TyPun/+TA0lLXsPiOcnUsU+V",
      "include_colab_link": true
    },
    "kernelspec": {
      "name": "python3",
      "display_name": "Python 3"
    },
    "language_info": {
      "name": "python"
    }
  },
  "cells": [
    {
      "cell_type": "markdown",
      "metadata": {
        "id": "view-in-github",
        "colab_type": "text"
      },
      "source": [
        "<a href=\"https://colab.research.google.com/github/MeenakshiMony23/python-for-machine-learning2/blob/main/Untitled0.ipynb\" target=\"_parent\"><img src=\"https://colab.research.google.com/assets/colab-badge.svg\" alt=\"Open In Colab\"/></a>"
      ]
    },
    {
      "cell_type": "code",
      "execution_count": 7,
      "metadata": {
        "colab": {
          "base_uri": "https://localhost:8080/"
        },
        "id": "cH--3C3e5iNK",
        "outputId": "e54de6c6-df3f-44a2-c39f-75c06ead6d8c"
      },
      "outputs": [
        {
          "output_type": "stream",
          "name": "stdout",
          "text": [
            "hai\n"
          ]
        }
      ],
      "source": [
        "#single line comments\n",
        "\"\"\"\n",
        "This is a comment\n",
        "written in\n",
        "more than just one line\n",
        "\"\"\"\n",
        "print(\"hai\")"
      ]
    },
    {
      "cell_type": "code",
      "source": [
        "#assigning multiple values to multiple variables\n",
        "a,b,c=12,\"apple pie\",'a'\n",
        "print(a)\n",
        "print(b)\n",
        "print(c)"
      ],
      "metadata": {
        "colab": {
          "base_uri": "https://localhost:8080/"
        },
        "id": "b-R2Pz4s60Ku",
        "outputId": "9d27eebd-a62f-4c00-f2ea-701b753e2939"
      },
      "execution_count": 8,
      "outputs": [
        {
          "output_type": "stream",
          "name": "stdout",
          "text": [
            "12\n",
            "apple pie\n",
            "a\n"
          ]
        }
      ]
    },
    {
      "cell_type": "code",
      "source": [
        "#assigning single value to multiple variable\n",
        "a=b=c=\"cheesecake\"\n",
        "print(a)\n",
        "print(b)\n",
        "print(c)"
      ],
      "metadata": {
        "colab": {
          "base_uri": "https://localhost:8080/"
        },
        "id": "eTWxmrSz7dFq",
        "outputId": "e715d08f-465e-4ec0-c925-98ec012db899"
      },
      "execution_count": 9,
      "outputs": [
        {
          "output_type": "stream",
          "name": "stdout",
          "text": [
            "cheesecake\n",
            "cheesecake\n",
            "cheesecake\n"
          ]
        }
      ]
    },
    {
      "cell_type": "code",
      "source": [
        "#unpack a collection\n",
        "list=[\"porsche\",\"audi\",\"ford\"]\n",
        "a,b,c=list\n",
        "print(a,b,c)"
      ],
      "metadata": {
        "colab": {
          "base_uri": "https://localhost:8080/"
        },
        "id": "UUtig0vE7tz_",
        "outputId": "2225f202-c891-4598-f63e-5f64eaafe149"
      },
      "execution_count": 10,
      "outputs": [
        {
          "output_type": "stream",
          "name": "stdout",
          "text": [
            "porsche audi ford\n"
          ]
        }
      ]
    },
    {
      "cell_type": "code",
      "source": [
        "#diff functions of +\n",
        "#1.combine two string values\n",
        "a=\"sun\"\n",
        "b=\"rise\"\n",
        "print(a,b)\n",
        "\n",
        "#2.addition\n",
        "a=100\n",
        "b=74\n",
        "print(a+b)"
      ],
      "metadata": {
        "colab": {
          "base_uri": "https://localhost:8080/"
        },
        "id": "pyBGh6S58Tm3",
        "outputId": "040f4fda-4e55-487a-8c88-9c76511b4c64"
      },
      "execution_count": 12,
      "outputs": [
        {
          "output_type": "stream",
          "name": "stdout",
          "text": [
            "sun rise\n",
            "174\n"
          ]
        }
      ]
    },
    {
      "cell_type": "code",
      "source": [
        "#list\n",
        "#input list\n",
        "newlist=[\"apple\", \"banana\", \"cherry\", \"apple\", \"cherry\"]\n",
        "#output length of list\n",
        "print(len(newlist))\n",
        "#output specified index\n",
        "print(newlist[3])\n",
        "#output specified index from 2 to 4\n",
        "print(newlist[2:4])\n",
        "#change item value\n",
        "newlist[4]=\"mango\"\n",
        "print(newlist)\n",
        "#output specified index from 2\n",
        "print(newlist[2:])\n",
        "#output specified index till 4\n",
        "print(newlist[:4])\n",
        "#check item\n",
        "if \"banana\" in newlist:\n",
        "  print(\"yes\")\n",
        "else:\n",
        "  print(\"no\")\n",
        "newlist.append(\"kiwi\")\n",
        "print(newlist)\n",
        "newlist.remove(\"kiwi\")\n",
        "newlist.insert(1,\"orange\")\n",
        "print(newlist)\n",
        "newlist.pop(5)\n",
        "print(newlist)\n",
        "newlist.pop()\n",
        "print(newlist)\n",
        "thislist=newlist\n",
        "newlist.extend(thislist)\n",
        "print(newlist)\n",
        "newlist.clear()\n",
        "print(newlist)\n",
        "del newlist\n",
        "\n"
      ],
      "metadata": {
        "colab": {
          "base_uri": "https://localhost:8080/"
        },
        "id": "IlvoQthp9Ovs",
        "outputId": "4fe6dee6-80af-48d0-c50f-6f0653002bbf"
      },
      "execution_count": 18,
      "outputs": [
        {
          "output_type": "stream",
          "name": "stdout",
          "text": [
            "5\n",
            "apple\n",
            "['cherry', 'apple']\n",
            "['apple', 'banana', 'cherry', 'apple', 'mango']\n",
            "['cherry', 'apple', 'mango']\n",
            "['apple', 'banana', 'cherry', 'apple']\n",
            "yes\n",
            "['apple', 'banana', 'cherry', 'apple', 'mango', 'kiwi']\n",
            "['apple', 'orange', 'banana', 'cherry', 'apple', 'mango']\n",
            "['apple', 'orange', 'banana', 'cherry', 'apple']\n",
            "['apple', 'orange', 'banana', 'cherry']\n",
            "['apple', 'orange', 'banana', 'cherry', 'apple', 'orange', 'banana', 'cherry']\n",
            "[]\n"
          ]
        }
      ]
    }
  ]
}